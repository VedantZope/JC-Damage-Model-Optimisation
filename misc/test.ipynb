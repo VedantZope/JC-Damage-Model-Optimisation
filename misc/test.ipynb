{
 "cells": [
  {
   "cell_type": "code",
   "execution_count": 1,
   "metadata": {},
   "outputs": [],
   "source": [
    "import os\n",
    "while(os.getcwd().endswith('Optimisation') == False ):\n",
    "    os.chdir('..')"
   ]
  },
  {
   "cell_type": "code",
   "execution_count": 2,
   "metadata": {},
   "outputs": [],
   "source": [
    "import pandas as pd\n",
    "import numpy as np\n",
    "import sys\n",
    "from sklearn.metrics import make_scorer\n",
    "from loss_function.loss_function import *\n",
    "from damage_models.johnson_cook import *\n",
    "from modules.helper import *\n",
    "from opt_algorithm.bayesian_opt import *\n"
   ]
  },
  {
   "cell_type": "code",
   "execution_count": 3,
   "metadata": {},
   "outputs": [
    {
     "name": "stdout",
     "output_type": "stream",
     "text": [
      "+---------------------------------------------------------------------------------+\n",
      "| Parameter Optimization of Johnson-Cook Damage Model using Bayesian Optimisation |\n",
      "+---------------+------------------+------------------+---------------------------+\n",
      "|   Parameter   |   lower_bound    |   upper_bound    |           effect          |\n",
      "+---------------+------------------+------------------+---------------------------+\n",
      "|      D_1      |      1e-06       |       0.01       |     stress triaxility     |\n",
      "|      D_2      |       1.0        |      1000.0      |     stress triaxility     |\n",
      "|      D_3      |       -1.0       |       1.0        |     stress triaxility     |\n",
      "|      D_4      |       0.0        |       1.0        |        strain rate        |\n",
      "|      D_5      |       -1.0       |       1.0        |        temperature        |\n",
      "+---------------+------------------+------------------+---------------------------+\n"
     ]
    }
   ],
   "source": [
    "display_intro()"
   ]
  },
  {
   "cell_type": "code",
   "execution_count": 4,
   "metadata": {},
   "outputs": [
    {
     "name": "stdout",
     "output_type": "stream",
     "text": [
      "+-----------------------+--------------------+\n",
      "|       Parameter       |       Value        |\n",
      "+-----------------------+--------------------+\n",
      "|  Number of iterations |        500         |\n",
      "|   Stress triaxility   | 0.3333333333333333 |\n",
      "| Reference temperature |        950         |\n",
      "|  Melting temperature  |        1000        |\n",
      "| Reference strain rate |         1          |\n",
      "+-----------------------+--------------------+\n"
     ]
    }
   ],
   "source": [
    "display_global_config_data()"
   ]
  },
  {
   "cell_type": "code",
   "execution_count": 5,
   "metadata": {},
   "outputs": [
    {
     "name": "stdout",
     "output_type": "stream",
     "text": [
      "Starting the Optimisation process...\n"
     ]
    }
   ],
   "source": [
    "print(\"Starting the Optimisation process...\")"
   ]
  },
  {
   "cell_type": "code",
   "execution_count": 6,
   "metadata": {},
   "outputs": [],
   "source": [
    "# Read the Excel file and split it into separate DataFrames\n",
    "data = pd.read_excel(\"experimental_data/pm_superalloy/stress_strain.xlsx\", sheet_name=None)\n",
    "\n",
    "temperature_list = []\n",
    "\n",
    "# Save the individual sheets as CSV files\n",
    "for sheet_name, df in data.items():\n",
    "    df.rename(columns={'Unnamed: 0': 'strain'}, inplace=True)\n",
    "    df.to_csv(f\"experimental_data/pm_superalloy/{sheet_name}.csv\", index=False)\n",
    "    temperature_list.append(int(sheet_name))\n",
    "\n",
    "strain_rate_list = df.columns.to_list()\n",
    "strain_rate_list.remove('strain')"
   ]
  },
  {
   "cell_type": "code",
   "execution_count": 7,
   "metadata": {},
   "outputs": [
    {
     "name": "stdout",
     "output_type": "stream",
     "text": [
      "0\n",
      "1\n",
      "2\n",
      "3\n",
      "4\n",
      "5\n"
     ]
    },
    {
     "ename": "KeyboardInterrupt",
     "evalue": "",
     "output_type": "error",
     "traceback": [
      "\u001b[0;31m---------------------------------------------------------------------------\u001b[0m",
      "\u001b[0;31mKeyboardInterrupt\u001b[0m                         Traceback (most recent call last)",
      "\u001b[1;32m/Users/vedantzope/Desktop/JC Parameter Optimisation/misc/test.ipynb Cell 7\u001b[0m line \u001b[0;36m<cell line: 1>\u001b[0;34m()\u001b[0m\n\u001b[0;32m----> <a href='vscode-notebook-cell:/Users/vedantzope/Desktop/JC%20Parameter%20Optimisation/misc/test.ipynb#W6sZmlsZQ%3D%3D?line=0'>1</a>\u001b[0m best_parameters, best_loss \u001b[39m=\u001b[39m bayesian_optimisation(temperature_list, strain_rate_list)\n\u001b[1;32m      <a href='vscode-notebook-cell:/Users/vedantzope/Desktop/JC%20Parameter%20Optimisation/misc/test.ipynb#W6sZmlsZQ%3D%3D?line=2'>3</a>\u001b[0m \u001b[39mprint\u001b[39m(\u001b[39m\"\u001b[39m\u001b[39mOptimisation process completed.\u001b[39m\u001b[39m\"\u001b[39m)\n\u001b[1;32m      <a href='vscode-notebook-cell:/Users/vedantzope/Desktop/JC%20Parameter%20Optimisation/misc/test.ipynb#W6sZmlsZQ%3D%3D?line=3'>4</a>\u001b[0m \u001b[39m# Print or use the best parameters and their loss\u001b[39;00m\n",
      "File \u001b[0;32m~/Desktop/JC Parameter Optimisation/opt_algorithm/bayesian_opt.py:38\u001b[0m, in \u001b[0;36mbayesian_optimisation\u001b[0;34m(temperature_list, strain_rate_list)\u001b[0m\n\u001b[1;32m     36\u001b[0m utility \u001b[39m=\u001b[39m UtilityFunction(kind\u001b[39m=\u001b[39m\u001b[39m\"\u001b[39m\u001b[39mucb\u001b[39m\u001b[39m\"\u001b[39m, kappa\u001b[39m=\u001b[39m\u001b[39m2.5\u001b[39m, xi\u001b[39m=\u001b[39m\u001b[39m0.0\u001b[39m)\n\u001b[1;32m     37\u001b[0m \u001b[39m# Suggest parameters\u001b[39;00m\n\u001b[0;32m---> 38\u001b[0m suggested_params \u001b[39m=\u001b[39m optimizer\u001b[39m.\u001b[39;49msuggest(utility_function\u001b[39m=\u001b[39;49mutility)  \u001b[39m# Use EI as the utility function\u001b[39;00m\n\u001b[1;32m     39\u001b[0m suggested_params \u001b[39m=\u001b[39m scale_parameters(suggested_params)\n\u001b[1;32m     40\u001b[0m \u001b[39mprint\u001b[39m(_)\n",
      "File \u001b[0;32m~/.local/lib/python3.9/site-packages/bayes_opt/bayesian_optimization.py:226\u001b[0m, in \u001b[0;36mBayesianOptimization.suggest\u001b[0;34m(self, utility_function)\u001b[0m\n\u001b[1;32m    222\u001b[0m         \u001b[39mself\u001b[39m\u001b[39m.\u001b[39mconstraint\u001b[39m.\u001b[39mfit(\u001b[39mself\u001b[39m\u001b[39m.\u001b[39m_space\u001b[39m.\u001b[39mparams,\n\u001b[1;32m    223\u001b[0m                             \u001b[39mself\u001b[39m\u001b[39m.\u001b[39m_space\u001b[39m.\u001b[39m_constraint_values)\n\u001b[1;32m    225\u001b[0m \u001b[39m# Finding argmax of the acquisition function.\u001b[39;00m\n\u001b[0;32m--> 226\u001b[0m suggestion \u001b[39m=\u001b[39m acq_max(ac\u001b[39m=\u001b[39;49mutility_function\u001b[39m.\u001b[39;49mutility,\n\u001b[1;32m    227\u001b[0m                      gp\u001b[39m=\u001b[39;49m\u001b[39mself\u001b[39;49m\u001b[39m.\u001b[39;49m_gp,\n\u001b[1;32m    228\u001b[0m                      constraint\u001b[39m=\u001b[39;49m\u001b[39mself\u001b[39;49m\u001b[39m.\u001b[39;49mconstraint,\n\u001b[1;32m    229\u001b[0m                      y_max\u001b[39m=\u001b[39;49m\u001b[39mself\u001b[39;49m\u001b[39m.\u001b[39;49m_space\u001b[39m.\u001b[39;49mtarget\u001b[39m.\u001b[39;49mmax(),\n\u001b[1;32m    230\u001b[0m                      bounds\u001b[39m=\u001b[39;49m\u001b[39mself\u001b[39;49m\u001b[39m.\u001b[39;49m_space\u001b[39m.\u001b[39;49mbounds,\n\u001b[1;32m    231\u001b[0m                      random_state\u001b[39m=\u001b[39;49m\u001b[39mself\u001b[39;49m\u001b[39m.\u001b[39;49m_random_state)\n\u001b[1;32m    233\u001b[0m \u001b[39mreturn\u001b[39;00m \u001b[39mself\u001b[39m\u001b[39m.\u001b[39m_space\u001b[39m.\u001b[39marray_to_params(suggestion)\n",
      "File \u001b[0;32m~/.local/lib/python3.9/site-packages/bayes_opt/util.py:50\u001b[0m, in \u001b[0;36macq_max\u001b[0;34m(ac, gp, y_max, bounds, random_state, constraint, n_warmup, n_iter)\u001b[0m\n\u001b[1;32m     47\u001b[0m \u001b[39m# Warm up with random points\u001b[39;00m\n\u001b[1;32m     48\u001b[0m x_tries \u001b[39m=\u001b[39m random_state\u001b[39m.\u001b[39muniform(bounds[:, \u001b[39m0\u001b[39m], bounds[:, \u001b[39m1\u001b[39m],\n\u001b[1;32m     49\u001b[0m                                size\u001b[39m=\u001b[39m(n_warmup, bounds\u001b[39m.\u001b[39mshape[\u001b[39m0\u001b[39m]))\n\u001b[0;32m---> 50\u001b[0m ys \u001b[39m=\u001b[39m ac(x_tries, gp\u001b[39m=\u001b[39;49mgp, y_max\u001b[39m=\u001b[39;49my_max)\n\u001b[1;32m     51\u001b[0m x_max \u001b[39m=\u001b[39m x_tries[ys\u001b[39m.\u001b[39margmax()]\n\u001b[1;32m     52\u001b[0m max_acq \u001b[39m=\u001b[39m ys\u001b[39m.\u001b[39mmax()\n",
      "File \u001b[0;32m~/.local/lib/python3.9/site-packages/bayes_opt/util.py:148\u001b[0m, in \u001b[0;36mUtilityFunction.utility\u001b[0;34m(self, x, gp, y_max)\u001b[0m\n\u001b[1;32m    146\u001b[0m \u001b[39mdef\u001b[39;00m \u001b[39mutility\u001b[39m(\u001b[39mself\u001b[39m, x, gp, y_max):\n\u001b[1;32m    147\u001b[0m     \u001b[39mif\u001b[39;00m \u001b[39mself\u001b[39m\u001b[39m.\u001b[39mkind \u001b[39m==\u001b[39m \u001b[39m'\u001b[39m\u001b[39mucb\u001b[39m\u001b[39m'\u001b[39m:\n\u001b[0;32m--> 148\u001b[0m         \u001b[39mreturn\u001b[39;00m \u001b[39mself\u001b[39;49m\u001b[39m.\u001b[39;49m_ucb(x, gp, \u001b[39mself\u001b[39;49m\u001b[39m.\u001b[39;49mkappa)\n\u001b[1;32m    149\u001b[0m     \u001b[39mif\u001b[39;00m \u001b[39mself\u001b[39m\u001b[39m.\u001b[39mkind \u001b[39m==\u001b[39m \u001b[39m'\u001b[39m\u001b[39mei\u001b[39m\u001b[39m'\u001b[39m:\n\u001b[1;32m    150\u001b[0m         \u001b[39mreturn\u001b[39;00m \u001b[39mself\u001b[39m\u001b[39m.\u001b[39m_ei(x, gp, y_max, \u001b[39mself\u001b[39m\u001b[39m.\u001b[39mxi)\n",
      "File \u001b[0;32m~/.local/lib/python3.9/site-packages/bayes_opt/util.py:158\u001b[0m, in \u001b[0;36mUtilityFunction._ucb\u001b[0;34m(x, gp, kappa)\u001b[0m\n\u001b[1;32m    156\u001b[0m \u001b[39mwith\u001b[39;00m warnings\u001b[39m.\u001b[39mcatch_warnings():\n\u001b[1;32m    157\u001b[0m     warnings\u001b[39m.\u001b[39msimplefilter(\u001b[39m\"\u001b[39m\u001b[39mignore\u001b[39m\u001b[39m\"\u001b[39m)\n\u001b[0;32m--> 158\u001b[0m     mean, std \u001b[39m=\u001b[39m gp\u001b[39m.\u001b[39;49mpredict(x, return_std\u001b[39m=\u001b[39;49m\u001b[39mTrue\u001b[39;49;00m)\n\u001b[1;32m    160\u001b[0m \u001b[39mreturn\u001b[39;00m mean \u001b[39m+\u001b[39m kappa \u001b[39m*\u001b[39m std\n",
      "File \u001b[0;32m~/.local/lib/python3.9/site-packages/sklearn/gaussian_process/_gpr.py:398\u001b[0m, in \u001b[0;36mGaussianProcessRegressor.predict\u001b[0;34m(self, X, return_std, return_cov)\u001b[0m\n\u001b[1;32m    395\u001b[0m y_mean \u001b[39m=\u001b[39m \u001b[39mself\u001b[39m\u001b[39m.\u001b[39m_y_train_std \u001b[39m*\u001b[39m y_mean \u001b[39m+\u001b[39m \u001b[39mself\u001b[39m\u001b[39m.\u001b[39m_y_train_mean\n\u001b[1;32m    397\u001b[0m \u001b[39m# Alg 2.1, page 19, line 5 -> v = L \\ K(X_test, X_train)^T\u001b[39;00m\n\u001b[0;32m--> 398\u001b[0m V \u001b[39m=\u001b[39m solve_triangular(\n\u001b[1;32m    399\u001b[0m     \u001b[39mself\u001b[39;49m\u001b[39m.\u001b[39;49mL_, K_trans\u001b[39m.\u001b[39;49mT, lower\u001b[39m=\u001b[39;49mGPR_CHOLESKY_LOWER, check_finite\u001b[39m=\u001b[39;49m\u001b[39mFalse\u001b[39;49;00m\n\u001b[1;32m    400\u001b[0m )\n\u001b[1;32m    402\u001b[0m \u001b[39mif\u001b[39;00m return_cov:\n\u001b[1;32m    403\u001b[0m     \u001b[39m# Alg 2.1, page 19, line 6 -> K(X_test, X_test) - v^T. v\u001b[39;00m\n\u001b[1;32m    404\u001b[0m     y_cov \u001b[39m=\u001b[39m \u001b[39mself\u001b[39m\u001b[39m.\u001b[39mkernel_(X) \u001b[39m-\u001b[39m V\u001b[39m.\u001b[39mT \u001b[39m@\u001b[39m V\n",
      "File \u001b[0;32m~/Downloads/Desktop/anaconda3/lib/python3.9/site-packages/scipy/linalg/basic.py:351\u001b[0m, in \u001b[0;36msolve_triangular\u001b[0;34m(a, b, trans, lower, unit_diagonal, overwrite_b, debug, check_finite)\u001b[0m\n\u001b[1;32m    349\u001b[0m trtrs, \u001b[39m=\u001b[39m get_lapack_funcs((\u001b[39m'\u001b[39m\u001b[39mtrtrs\u001b[39m\u001b[39m'\u001b[39m,), (a1, b1))\n\u001b[1;32m    350\u001b[0m \u001b[39mif\u001b[39;00m a1\u001b[39m.\u001b[39mflags\u001b[39m.\u001b[39mf_contiguous \u001b[39mor\u001b[39;00m trans \u001b[39m==\u001b[39m \u001b[39m2\u001b[39m:\n\u001b[0;32m--> 351\u001b[0m     x, info \u001b[39m=\u001b[39m trtrs(a1, b1, overwrite_b\u001b[39m=\u001b[39;49moverwrite_b, lower\u001b[39m=\u001b[39;49mlower,\n\u001b[1;32m    352\u001b[0m                     trans\u001b[39m=\u001b[39;49mtrans, unitdiag\u001b[39m=\u001b[39;49munit_diagonal)\n\u001b[1;32m    353\u001b[0m \u001b[39melse\u001b[39;00m:\n\u001b[1;32m    354\u001b[0m     \u001b[39m# transposed system is solved since trtrs expects Fortran ordering\u001b[39;00m\n\u001b[1;32m    355\u001b[0m     x, info \u001b[39m=\u001b[39m trtrs(a1\u001b[39m.\u001b[39mT, b1, overwrite_b\u001b[39m=\u001b[39moverwrite_b, lower\u001b[39m=\u001b[39m\u001b[39mnot\u001b[39;00m lower,\n\u001b[1;32m    356\u001b[0m                     trans\u001b[39m=\u001b[39m\u001b[39mnot\u001b[39;00m trans, unitdiag\u001b[39m=\u001b[39munit_diagonal)\n",
      "\u001b[0;31mKeyboardInterrupt\u001b[0m: "
     ]
    }
   ],
   "source": [
    "best_parameters, best_loss = bayesian_optimisation(temperature_list, strain_rate_list)\n",
    "\n",
    "print(\"Optimisation process completed.\")\n",
    "# Print or use the best parameters and their loss\n",
    "\n",
    "display_best_params(best_parameters)\n",
    "print(\"Best Value:\", best_loss)"
   ]
  },
  {
   "cell_type": "code",
   "execution_count": null,
   "metadata": {},
   "outputs": [],
   "source": []
  }
 ],
 "metadata": {
  "kernelspec": {
   "display_name": "Python 3",
   "language": "python",
   "name": "python3"
  },
  "language_info": {
   "codemirror_mode": {
    "name": "ipython",
    "version": 3
   },
   "file_extension": ".py",
   "mimetype": "text/x-python",
   "name": "python",
   "nbconvert_exporter": "python",
   "pygments_lexer": "ipython3",
   "version": "3.9.12"
  }
 },
 "nbformat": 4,
 "nbformat_minor": 2
}
